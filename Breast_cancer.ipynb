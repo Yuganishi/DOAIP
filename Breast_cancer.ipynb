{
 "cells": [
  {
   "cell_type": "code",
   "execution_count": 1,
   "id": "376ac06b-1cb3-4af1-865e-41cd671fc780",
   "metadata": {},
   "outputs": [
    {
     "name": "stdout",
     "output_type": "stream",
     "text": [
      "Confusion Matrix:\n",
      "[[ 59   4]\n",
      " [  2 106]]\n",
      "Accuracy: 0.9649122807017544\n",
      "Sample Input: [2.201e+01 2.190e+01 1.472e+02 1.482e+03 1.063e-01 1.954e-01 2.448e-01\n",
      " 1.501e-01 1.824e-01 6.140e-02 1.008e+00 6.999e-01 7.561e+00 1.302e+02\n",
      " 3.978e-03 2.821e-02 3.576e-02 1.471e-02 1.518e-02 3.796e-03 2.766e+01\n",
      " 2.580e+01 1.950e+02 2.227e+03 1.294e-01 3.885e-01 4.756e-01 2.432e-01\n",
      " 2.741e-01 8.574e-02]\n",
      "True Label: Malignant\n",
      "Predicted Label: Malignant\n"
     ]
    }
   ],
   "source": [
    "from sklearn.datasets import load_breast_cancer\n",
    "from sklearn.model_selection import train_test_split\n",
    "from sklearn.svm import SVC\n",
    "from sklearn.metrics import confusion_matrix, accuracy_score\n",
    "import numpy as np\n",
    "data = load_breast_cancer()\n",
    "X = data.data\n",
    "y = data.target\n",
    "X_train, X_test, y_train, y_test = train_test_split(X, y, test_size=0.3, random_state=42)\n",
    "model = SVC(kernel='linear')\n",
    "model.fit(X_train, y_train)\n",
    "y_pred = model.predict(X_test)\n",
    "conf_matrix = confusion_matrix(y_test, y_pred)\n",
    "print(\"Confusion Matrix:\")\n",
    "print(conf_matrix)\n",
    "accuracy = accuracy_score(y_test, y_pred)\n",
    "print(\"Accuracy:\", accuracy)\n",
    "rand_index = np.random.randint(len(X_test))\n",
    "input = X_test[6]\n",
    "actual = y_test[6]\n",
    "y_prediction = model.predict([input])\n",
    "print(\"Sample Input:\", input)\n",
    "print(\"True Label:\", 'Malignant' if actual == 0 else 'Benign')\n",
    "print(\"Predicted Label:\", 'Malignant' if y_prediction == 0 else 'Benign')"
   ]
  },
  {
   "cell_type": "code",
   "execution_count": null,
   "id": "ffbad0aa-7d2d-44a7-835d-3777226b322d",
   "metadata": {},
   "outputs": [],
   "source": []
  }
 ],
 "metadata": {
  "kernelspec": {
   "display_name": "Python 3 (ipykernel)",
   "language": "python",
   "name": "python3"
  },
  "language_info": {
   "codemirror_mode": {
    "name": "ipython",
    "version": 3
   },
   "file_extension": ".py",
   "mimetype": "text/x-python",
   "name": "python",
   "nbconvert_exporter": "python",
   "pygments_lexer": "ipython3",
   "version": "3.11.8"
  }
 },
 "nbformat": 4,
 "nbformat_minor": 5
}
